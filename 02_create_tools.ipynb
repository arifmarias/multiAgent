{
 "cells": [
  {
   "cell_type": "code",
   "execution_count": 0,
   "metadata": {
    "application/vnd.databricks.v1+cell": {
     "cellMetadata": {
      "byteLimit": 2048000,
      "rowLimit": 10000
     },
     "inputWidgets": {},
     "nuid": "4dcd0fd4-ab68-4a95-81a3-45a1661d4d47",
     "showTitle": false,
     "tableResultSettingsMap": {},
     "title": ""
    },
    "jupyter": {
     "outputs_hidden": true
    }
   },
   "outputs": [],
   "source": [
    "%pip install -qqqq -U -r requirements.txt"
   ]
  },
  {
   "cell_type": "code",
   "execution_count": 0,
   "metadata": {
    "application/vnd.databricks.v1+cell": {
     "cellMetadata": {
      "byteLimit": 2048000,
      "rowLimit": 10000
     },
     "inputWidgets": {},
     "nuid": "473b1084-a459-43b3-b3f0-58100960412a",
     "showTitle": false,
     "tableResultSettingsMap": {},
     "title": ""
    },
    "jupyter": {
     "outputs_hidden": true
    }
   },
   "outputs": [],
   "source": [
    "dbutils.library.restartPython()"
   ]
  },
  {
   "cell_type": "code",
   "execution_count": 0,
   "metadata": {
    "application/vnd.databricks.v1+cell": {
     "cellMetadata": {
      "byteLimit": 2048000,
      "rowLimit": 10000
     },
     "inputWidgets": {},
     "nuid": "ec1b5b5d-5865-462e-a23d-a77664b63f2e",
     "showTitle": false,
     "tableResultSettingsMap": {},
     "title": ""
    }
   },
   "outputs": [],
   "source": [
    "import os\n",
    "import sys\n",
    "import json\n",
    "from cookbook.tools.local_function import LocalFunctionTool\n",
    "sys.path.append(os.path.abspath('/Workspace/Users/mohammedarif@prudential.com.my/multi_agent_story'))"
   ]
  },
  {
   "cell_type": "code",
   "execution_count": 0,
   "metadata": {
    "application/vnd.databricks.v1+cell": {
     "cellMetadata": {
      "byteLimit": 2048000,
      "rowLimit": 10000
     },
     "inputWidgets": {},
     "nuid": "13dce1c7-9c22-4748-9982-d6458aa2a457",
     "showTitle": false,
     "tableResultSettingsMap": {},
     "title": ""
    }
   },
   "outputs": [],
   "source": [
    "# Import necessary libraries\n",
    "from cookbook.config.shared.agent_storage_location import AgentStorageConfig\n",
    "from cookbook.databricks_utils import get_mlflow_experiment_url\n",
    "from cookbook.config import load_serializable_config_from_yaml_file\n",
    "import mlflow \n",
    "import os\n",
    "import inspect\n",
    "\n",
    "# Load the Agent's storage locations\n",
    "agent_storage_config: AgentStorageConfig = load_serializable_config_from_yaml_file(\"./configs/agent_storage_config.yaml\")\n",
    "\n",
    "# Show the Agent's storage locations\n",
    "agent_storage_config.pretty_print()\n",
    "\n",
    "# Set up the MLflow experiment\n",
    "experiment_info = mlflow.set_experiment(agent_storage_config.mlflow_experiment_name)\n",
    "# If running in a local IDE, set the MLflow experiment name as an environment variable\n",
    "os.environ[\"MLFLOW_EXPERIMENT_NAME\"] = agent_storage_config.mlflow_experiment_name\n",
    "\n",
    "print(f\"View the MLflow Experiment `{agent_storage_config.mlflow_experiment_name}` at {get_mlflow_experiment_url(experiment_info.experiment_id)}\")"
   ]
  },
  {
   "cell_type": "code",
   "execution_count": 0,
   "metadata": {
    "application/vnd.databricks.v1+cell": {
     "cellMetadata": {
      "byteLimit": 2048000,
      "rowLimit": 10000
     },
     "inputWidgets": {},
     "nuid": "bd414e62-47c0-458a-b589-d3e14aae7f26",
     "showTitle": false,
     "tableResultSettingsMap": {},
     "title": ""
    }
   },
   "outputs": [],
   "source": [
    "# Enable auto-reloading for easier development\n",
    "# %load_ext autoreload\n",
    "# %autoreload 2"
   ]
  },
  {
   "cell_type": "code",
   "execution_count": 0,
   "metadata": {
    "application/vnd.databricks.v1+cell": {
     "cellMetadata": {
      "byteLimit": 2048000,
      "rowLimit": 10000
     },
     "inputWidgets": {},
     "nuid": "66e861cc-a0c2-4a52-ba2f-e47b2c57368d",
     "showTitle": false,
     "tableResultSettingsMap": {},
     "title": ""
    }
   },
   "outputs": [],
   "source": [
    "# Set up UC function client\n",
    "from unitycatalog.ai.core.databricks import DatabricksFunctionClient\n",
    "from cookbook.tools.uc_tool import UCTool\n",
    "from cookbook.tools.local_function import LocalFunctionTool\n",
    "\n",
    "client = DatabricksFunctionClient()\n",
    "\n",
    "# Set Unity Catalog information - make sure to use the correct catalog and schema for your environment\n",
    "UC_CATALOG = \"main\"  # Change to your catalog\n",
    "UC_SCHEMA = \"default\"  # Change to your schema\n",
    "\n",
    "# Import the visualization tools from the tools module\n",
    "from tools.visualization_tools import (\n",
    "    create_bar_chart,\n",
    "    create_line_chart,\n",
    "    create_pie_chart,\n",
    "    format_table_data,\n",
    "    python_viz_executor,\n",
    "    extract_table_from_markdown,\n",
    "    generate_visualization_code\n",
    ")\n",
    "\n",
    "# Display function documentation\n",
    "print(\"Bar Chart Function Documentation:\")\n",
    "print(inspect.getdoc(create_bar_chart))\n",
    "print(\"\\n\" + \"=\"*50 + \"\\n\")\n",
    "\n",
    "print(\"Line Chart Function Documentation:\")\n",
    "print(inspect.getdoc(create_line_chart))\n",
    "print(\"\\n\" + \"=\"*50 + \"\\n\")\n",
    "\n",
    "print(\"Pie Chart Function Documentation:\")\n",
    "print(inspect.getdoc(create_pie_chart))\n",
    "print(\"\\n\" + \"=\"*50 + \"\\n\")\n",
    "\n",
    "print(\"Table Formatting Function Documentation:\")\n",
    "print(inspect.getdoc(format_table_data))\n",
    "print(\"\\n\" + \"=\"*50 + \"\\n\")\n",
    "\n",
    "print(\"Python Visualization Executor Function Documentation:\")\n",
    "print(inspect.getdoc(python_viz_executor))\n",
    "print(\"\\n\" + \"=\"*50 + \"\\n\")\n",
    "\n",
    "# Try/except block to handle errors in function deployment\n",
    "try:\n",
    "    # Deploy the functions to Unity Catalog\n",
    "    # Since we removed default parameters from the functions, they should deploy correctly now\n",
    "    \n",
    "    # Create and deploy bar chart function\n",
    "    bar_chart_uc_info = client.create_python_function(\n",
    "        func=create_bar_chart, \n",
    "        catalog=UC_CATALOG, \n",
    "        schema=UC_SCHEMA, \n",
    "        replace=True\n",
    "    )\n",
    "    print(f\"Deployed bar chart function: {bar_chart_uc_info.full_name}\")\n",
    "    \n",
    "    # Create and deploy line chart function\n",
    "    line_chart_uc_info = client.create_python_function(\n",
    "        func=create_line_chart, \n",
    "        catalog=UC_CATALOG, \n",
    "        schema=UC_SCHEMA, \n",
    "        replace=True\n",
    "    )\n",
    "    print(f\"Deployed line chart function: {line_chart_uc_info.full_name}\")\n",
    "    \n",
    "    # Create and deploy pie chart function\n",
    "    pie_chart_uc_info = client.create_python_function(\n",
    "        func=create_pie_chart, \n",
    "        catalog=UC_CATALOG, \n",
    "        schema=UC_SCHEMA, \n",
    "        replace=True\n",
    "    )\n",
    "    print(f\"Deployed pie chart function: {pie_chart_uc_info.full_name}\")\n",
    "    \n",
    "    # Create and deploy table formatting function\n",
    "    table_format_uc_info = client.create_python_function(\n",
    "        func=format_table_data, \n",
    "        catalog=UC_CATALOG, \n",
    "        schema=UC_SCHEMA, \n",
    "        replace=True\n",
    "    )\n",
    "    print(f\"Deployed table format function: {table_format_uc_info.full_name}\")\n",
    "    \n",
    "    # Create and deploy Python visualization executor\n",
    "    python_viz_uc_info = client.create_python_function(\n",
    "        func=python_viz_executor, \n",
    "        catalog=UC_CATALOG, \n",
    "        schema=UC_SCHEMA, \n",
    "        replace=True\n",
    "    )\n",
    "    print(f\"Deployed Python visualization executor function: {python_viz_uc_info.full_name}\")\n",
    "    \n",
    "    # Create and deploy markdown table extraction function\n",
    "    extract_table_uc_info = client.create_python_function(\n",
    "        func=extract_table_from_markdown, \n",
    "        catalog=UC_CATALOG, \n",
    "        schema=UC_SCHEMA, \n",
    "        replace=True\n",
    "    )\n",
    "    print(f\"Deployed markdown table extraction function: {extract_table_uc_info.full_name}\")\n",
    "    \n",
    "    # Create and deploy visualization code generator function\n",
    "    viz_code_gen_uc_info = client.create_python_function(\n",
    "        func=generate_visualization_code, \n",
    "        catalog=UC_CATALOG, \n",
    "        schema=UC_SCHEMA, \n",
    "        replace=True\n",
    "    )\n",
    "    print(f\"Deployed visualization code generator function: {viz_code_gen_uc_info.full_name}\")\n",
    "\n",
    "    # Create UCTool wrappers for the deployed functions\n",
    "    bar_chart_tool = UCTool(uc_function_name=bar_chart_uc_info.full_name)\n",
    "    line_chart_tool = UCTool(uc_function_name=line_chart_uc_info.full_name)\n",
    "    pie_chart_tool = UCTool(uc_function_name=pie_chart_uc_info.full_name)\n",
    "    table_format_tool = UCTool(uc_function_name=table_format_uc_info.full_name)\n",
    "    python_viz_tool = UCTool(uc_function_name=python_viz_uc_info.full_name)\n",
    "    extract_table_tool = UCTool(uc_function_name=extract_table_uc_info.full_name)\n",
    "    viz_code_gen_tool = UCTool(uc_function_name=viz_code_gen_uc_info.full_name)\n",
    "\n",
    "    # Test the bar chart tool with example data\n",
    "    test_data = [\n",
    "        {\"x\": \"Jan\", \"y\": 10},\n",
    "        {\"x\": \"Feb\", \"y\": 15},\n",
    "        {\"x\": \"Mar\", \"y\": 7},\n",
    "        {\"x\": \"Apr\", \"y\": 12}\n",
    "    ]\n",
    "\n",
    "    result = bar_chart_tool(\n",
    "        data=json.dumps(test_data),\n",
    "        title=\"Monthly Sales\",\n",
    "        x_label=\"Month\",\n",
    "        y_label=\"Sales ($K)\",\n",
    "        orientation=\"vertical\",\n",
    "        color=\"steelblue\",\n",
    "        figsize=\"10,6\"\n",
    "    )\n",
    "\n",
    "    print(\"Bar Chart Test Result:\")\n",
    "    if \"error\" in result:\n",
    "        print(f\"Error: {result['error']}\")\n",
    "    else:\n",
    "        print(f\"Success! Image data length: {len(result['value'])}\")\n",
    "\n",
    "    # Test the Python visualization executor\n",
    "    test_viz_code = \"\"\"\n",
    "    import matplotlib.pyplot as plt\n",
    "    import numpy as np\n",
    "\n",
    "    # Create some data\n",
    "    x = np.linspace(0, 10, 100)\n",
    "    y = np.sin(x)\n",
    "\n",
    "    # Create a simple plot\n",
    "    plt.figure(figsize=(8, 5))\n",
    "    plt.plot(x, y, 'b-', linewidth=2)\n",
    "    plt.title('Sine Wave')\n",
    "    plt.xlabel('X axis')\n",
    "    plt.ylabel('Y axis')\n",
    "    plt.grid(True)\n",
    "    \"\"\"\n",
    "\n",
    "    python_viz_result = python_viz_tool(code=test_viz_code)\n",
    "\n",
    "    print(\"\\nPython Visualization Test Result:\")\n",
    "    if \"error\" in python_viz_result:\n",
    "        print(f\"Error: {python_viz_result['error']}\")\n",
    "    else:\n",
    "        print(f\"Success! Image data available in result\")\n",
    "\n",
    "    # Create local function tools as well for use in the Visualization Agent\n",
    "    print(\"\\nCreating local function tools...\")\n",
    "    bar_chart_local_tool = LocalFunctionTool(func=create_bar_chart)\n",
    "    line_chart_local_tool = LocalFunctionTool(func=create_line_chart)\n",
    "    pie_chart_local_tool = LocalFunctionTool(func=create_pie_chart)\n",
    "    table_format_local_tool = LocalFunctionTool(func=format_table_data)\n",
    "    python_viz_local_tool = LocalFunctionTool(func=python_viz_executor)\n",
    "    extract_table_local_tool = LocalFunctionTool(func=extract_table_from_markdown)\n",
    "    viz_code_gen_local_tool = LocalFunctionTool(func=generate_visualization_code)\n",
    "\n",
    "    print(\"\\nCreated visualization tools as both UC Tools and Local Function Tools\")\n",
    "    print(\"These can now be imported by the Visualization Agent to create dynamic visualizations\")\n",
    "\n",
    "except Exception as e:\n",
    "    print(f\"Error deploying tools: {str(e)}\")\n",
    "    \n",
    "    # Even if UC tools fail, create local tools for use in the Visualization Agent\n",
    "    print(\"\\nCreating local function tools...\")\n",
    "    bar_chart_local_tool = LocalFunctionTool(func=create_bar_chart)\n",
    "    line_chart_local_tool = LocalFunctionTool(func=create_line_chart)\n",
    "    pie_chart_local_tool = LocalFunctionTool(func=create_pie_chart)\n",
    "    table_format_local_tool = LocalFunctionTool(func=format_table_data)\n",
    "    python_viz_local_tool = LocalFunctionTool(func=python_viz_executor)\n",
    "    extract_table_local_tool = LocalFunctionTool(func=extract_table_from_markdown)\n",
    "    viz_code_gen_local_tool = LocalFunctionTool(func=generate_visualization_code)\n",
    "    \n",
    "    print(\"\\nCreated local function tools that will work even without UC deployment\")\n",
    "    print(\"The Visualization Agent can use these even if UC deployment failed\")"
   ]
  }
 ],
 "metadata": {
  "application/vnd.databricks.v1+notebook": {
   "computePreferences": null,
   "dashboards": [],
   "environmentMetadata": {
    "base_environment": "",
    "environment_version": "2"
   },
   "inputWidgetPreferences": null,
   "language": "python",
   "notebookMetadata": {
    "pythonIndentUnit": 2
   },
   "notebookName": "02_create_tools",
   "widgets": {}
  },
  "language_info": {
   "name": "python"
  }
 },
 "nbformat": 4,
 "nbformat_minor": 0
}
