{
 "cells": [
  {
   "cell_type": "markdown",
   "metadata": {
    "application/vnd.databricks.v1+cell": {
     "cellMetadata": {
      "batchId": -239554532506955,
      "byteLimit": 2048000,
      "rowLimit": 10000
     },
     "inputWidgets": {},
     "nuid": "c1ed49bf-077b-4879-a792-27a7d37f017a",
     "showTitle": false,
     "tableResultSettingsMap": {},
     "title": ""
    }
   },
   "source": [
    "1. Install Python Libraries"
   ]
  },
  {
   "cell_type": "code",
   "execution_count": 0,
   "metadata": {
    "application/vnd.databricks.v1+cell": {
     "cellMetadata": {
      "byteLimit": 2048000,
      "rowLimit": 10000
     },
     "inputWidgets": {},
     "nuid": "1edd57f6-d387-4c94-882d-e8b02f816a8f",
     "showTitle": false,
     "tableResultSettingsMap": {},
     "title": ""
    },
    "jupyter": {
     "outputs_hidden": true
    }
   },
   "outputs": [],
   "source": [
    "%pip install -qqqq -U -r requirements.txt"
   ]
  },
  {
   "cell_type": "code",
   "execution_count": 0,
   "metadata": {
    "application/vnd.databricks.v1+cell": {
     "cellMetadata": {
      "byteLimit": 2048000,
      "rowLimit": 10000
     },
     "inputWidgets": {},
     "nuid": "87edec57-8852-4293-91dc-96bd5eb5c1ac",
     "showTitle": false,
     "tableResultSettingsMap": {},
     "title": ""
    }
   },
   "outputs": [],
   "source": [
    "dbutils.library.restartPython()"
   ]
  },
  {
   "cell_type": "markdown",
   "metadata": {
    "application/vnd.databricks.v1+cell": {
     "cellMetadata": {
      "batchId": -239554532506955,
      "byteLimit": 2048000,
      "rowLimit": 10000
     },
     "inputWidgets": {},
     "nuid": "bb430978-4b43-46bf-b690-deeaaf489503",
     "showTitle": false,
     "tableResultSettingsMap": {},
     "title": ""
    }
   },
   "source": [
    "2. Load Agent UC Storage Locations and Setup MLFlow Experiment"
   ]
  },
  {
   "cell_type": "code",
   "execution_count": 0,
   "metadata": {
    "application/vnd.databricks.v1+cell": {
     "cellMetadata": {
      "byteLimit": 2048000,
      "rowLimit": 10000
     },
     "inputWidgets": {},
     "nuid": "23fb5996-ed67-447c-a338-d2425bd2423b",
     "showTitle": false,
     "tableResultSettingsMap": {},
     "title": ""
    }
   },
   "outputs": [],
   "source": [
    "# Import necessary libraries\n",
    "from cookbook.config.shared.agent_storage_location import AgentStorageConfig\n",
    "from cookbook.databricks_utils import get_mlflow_experiment_url\n",
    "from cookbook.config import load_serializable_config_from_yaml_file\n",
    "import mlflow \n",
    "import os\n",
    "\n",
    "# Load the Agent's storage locations\n",
    "agent_storage_config: AgentStorageConfig = load_serializable_config_from_yaml_file(\"./configs/agent_storage_config.yaml\")\n",
    "\n",
    "# Show the Agent's storage locations\n",
    "agent_storage_config.pretty_print()\n",
    "\n",
    "# set the MLflow experiment\n",
    "experiment_info = mlflow.set_experiment(agent_storage_config.mlflow_experiment_name)\n",
    "# If running in a local IDE, set the MLflow experiment name as an environment variable\n",
    "os.environ[\"MLFLOW_EXPERIMENT_NAME\"] = agent_storage_config.mlflow_experiment_name\n",
    "\n",
    "print(f\"View the MLflow Experiment `{agent_storage_config.mlflow_experiment_name}` at {get_mlflow_experiment_url(experiment_info.experiment_id)}\")"
   ]
  },
  {
   "cell_type": "markdown",
   "metadata": {
    "application/vnd.databricks.v1+cell": {
     "cellMetadata": {
      "batchId": -239554532506955,
      "byteLimit": 2048000,
      "rowLimit": 10000
     },
     "inputWidgets": {},
     "nuid": "7a8941cb-5554-4b6e-9e89-d2c2071db70e",
     "showTitle": false,
     "tableResultSettingsMap": {},
     "title": ""
    }
   },
   "source": [
    "3. Set Genie Space ID"
   ]
  },
  {
   "cell_type": "code",
   "execution_count": 0,
   "metadata": {
    "application/vnd.databricks.v1+cell": {
     "cellMetadata": {
      "byteLimit": 2048000,
      "rowLimit": 10000
     },
     "inputWidgets": {},
     "nuid": "cfaab85e-9627-45b7-bdbb-c7f584060bee",
     "showTitle": false,
     "tableResultSettingsMap": {},
     "title": ""
    }
   },
   "outputs": [],
   "source": [
    "# Set Databricks credentials and Genie space ID\n",
    "import os\n",
    "\n",
    "# Set environment variables\n",
    "os.environ[\"DATABRICKS_HOST\"] = \"\" # will fillup later\n",
    "os.environ[\"DATABRICKS_TOKEN\"] = \"\" # will fillup later\n",
    "GENIE_SPACE_ID = \"\" # will fillup later\n",
    "\n",
    "# Llama 3.3 endpoint for LLMs\n",
    "LLM_ENDPOINT_NAME = \"databricks-meta-llama-3-3-70b-instruct\""
   ]
  },
  {
   "cell_type": "markdown",
   "metadata": {
    "application/vnd.databricks.v1+cell": {
     "cellMetadata": {
      "batchId": -239554532506955,
      "byteLimit": 2048000,
      "rowLimit": 10000
     },
     "inputWidgets": {},
     "nuid": "5249cb71-f0d7-454c-a7cf-d38ed4a1f763",
     "showTitle": false,
     "tableResultSettingsMap": {},
     "title": ""
    }
   },
   "source": [
    "4. Setup the **Config YAML Files**"
   ]
  },
  {
   "cell_type": "code",
   "execution_count": 0,
   "metadata": {
    "application/vnd.databricks.v1+cell": {
     "cellMetadata": {
      "byteLimit": 2048000,
      "rowLimit": 10000
     },
     "inputWidgets": {},
     "nuid": "4368e1db-d3f0-4b6b-afbb-ed65fcd33d9c",
     "showTitle": false,
     "tableResultSettingsMap": {},
     "title": ""
    }
   },
   "outputs": [],
   "source": [
    "# First let's create our config directory\n",
    "import os\n",
    "\n",
    "os.makedirs(\"configs\", exist_ok=True)\n",
    "with open(\"configs/README.md\", \"w\") as f:\n",
    "    f.write(\"This folder stores the configurations generated by the notebooks.\")\n",
    "\n",
    "# COMMAND ----------\n",
    "\n",
    "from pydantic import BaseModel, Field, field_validator, FieldValidationInfo\n",
    "from typing import Optional\n",
    "from databricks.sdk.errors.platform import ResourceDoesNotExist, NotFound\n",
    "import json\n",
    "import yaml\n",
    "\n",
    "# Serialize and deserialize configs\n",
    "def serializable_config_to_yaml(obj: BaseModel) -> str:\n",
    "    data = obj.model_dump()\n",
    "    return yaml.dump(data)\n",
    "\n",
    "def serializable_config_to_yaml_file(obj: BaseModel, yaml_file_path: str) -> None:\n",
    "    with open(yaml_file_path, \"w\") as handle:\n",
    "        handle.write(serializable_config_to_yaml(obj))"
   ]
  },
  {
   "cell_type": "markdown",
   "metadata": {
    "application/vnd.databricks.v1+cell": {
     "cellMetadata": {
      "batchId": -239554532506955,
      "byteLimit": 2048000,
      "rowLimit": 10000
     },
     "inputWidgets": {},
     "nuid": "32ae2e16-c402-47f2-9f5a-f908665b3799",
     "showTitle": false,
     "tableResultSettingsMap": {},
     "title": ""
    }
   },
   "source": [
    "4.1. Get tools from UC"
   ]
  },
  {
   "cell_type": "code",
   "execution_count": 0,
   "metadata": {
    "application/vnd.databricks.v1+cell": {
     "cellMetadata": {
      "byteLimit": 2048000,
      "rowLimit": 10000
     },
     "inputWidgets": {},
     "nuid": "5b265e89-b74a-4a6b-a979-77835848888d",
     "showTitle": false,
     "tableResultSettingsMap": {},
     "title": ""
    }
   },
   "outputs": [],
   "source": [
    "from cookbook.tools.local_function import LocalFunctionTool\n",
    "from cookbook.tools.uc_tool import UCTool\n",
    "# Import visualization tools\n",
    "from tools.visualization_tools import (\n",
    "    create_bar_chart,\n",
    "    create_line_chart,\n",
    "    create_pie_chart,\n",
    "    format_table_data\n",
    ")\n",
    "\n",
    "# Create UCTool wrappers or use local tools based on what's available\n",
    "try:\n",
    "    # Try to use UC tools if already registered\n",
    "    from unitycatalog.ai.core.databricks import DatabricksFunctionClient\n",
    "    client = DatabricksFunctionClient()\n",
    "    \n",
    "    # Set Unity Catalog info - match with what you used in 02_create_tools.py\n",
    "    UC_CATALOG = \"main\"  # Change to your catalog\n",
    "    UC_SCHEMA = \"default\"  # Change to your schema\n",
    "    \n",
    "    # Check if the tools exist in UC and create wrappers\n",
    "    viz_tools = []\n",
    "    \n",
    "    try:\n",
    "        bar_chart_tool = UCTool(uc_function_name=f\"{UC_CATALOG}.{UC_SCHEMA}.create_bar_chart\")\n",
    "        viz_tools.append(bar_chart_tool)\n",
    "        print(f\"Added UC tool: {UC_CATALOG}.{UC_SCHEMA}.create_bar_chart\")\n",
    "    except Exception:\n",
    "        bar_chart_tool = LocalFunctionTool(func=create_bar_chart)\n",
    "        viz_tools.append(bar_chart_tool)\n",
    "        print(\"Added local tool: create_bar_chart\")\n",
    "    \n",
    "    try:\n",
    "        line_chart_tool = UCTool(uc_function_name=f\"{UC_CATALOG}.{UC_SCHEMA}.create_line_chart\")\n",
    "        viz_tools.append(line_chart_tool)\n",
    "        print(f\"Added UC tool: {UC_CATALOG}.{UC_SCHEMA}.create_line_chart\")\n",
    "    except Exception:\n",
    "        line_chart_tool = LocalFunctionTool(func=create_line_chart)\n",
    "        viz_tools.append(line_chart_tool)\n",
    "        print(\"Added local tool: create_line_chart\")\n",
    "    \n",
    "    try:\n",
    "        pie_chart_tool = UCTool(uc_function_name=f\"{UC_CATALOG}.{UC_SCHEMA}.create_pie_chart\")\n",
    "        viz_tools.append(pie_chart_tool)\n",
    "        print(f\"Added UC tool: {UC_CATALOG}.{UC_SCHEMA}.create_pie_chart\")\n",
    "    except Exception:\n",
    "        pie_chart_tool = LocalFunctionTool(func=create_pie_chart)\n",
    "        viz_tools.append(pie_chart_tool)\n",
    "        print(\"Added local tool: create_pie_chart\")\n",
    "    \n",
    "    try:\n",
    "        table_format_tool = UCTool(uc_function_name=f\"{UC_CATALOG}.{UC_SCHEMA}.format_table_data\")\n",
    "        viz_tools.append(table_format_tool)\n",
    "        print(f\"Added UC tool: {UC_CATALOG}.{UC_SCHEMA}.format_table_data\")\n",
    "    except Exception:\n",
    "        table_format_tool = LocalFunctionTool(func=format_table_data)\n",
    "        viz_tools.append(table_format_tool)\n",
    "        print(\"Added local tool: format_table_data\")\n",
    "    \n",
    "except Exception as e:\n",
    "    print(f\"Error loading UC tools: {e}\")\n",
    "    # Fall back to local tools if UC fails\n",
    "    viz_tools = [\n",
    "        LocalFunctionTool(func=create_bar_chart),\n",
    "        LocalFunctionTool(func=create_line_chart),\n",
    "        LocalFunctionTool(func=create_pie_chart),\n",
    "        LocalFunctionTool(func=format_table_data)\n",
    "    ]\n",
    "    print(\"Using local visualization tools\")"
   ]
  },
  {
   "cell_type": "markdown",
   "metadata": {
    "application/vnd.databricks.v1+cell": {
     "cellMetadata": {
      "batchId": -239554532506955,
      "byteLimit": 2048000,
      "rowLimit": 10000
     },
     "inputWidgets": {},
     "nuid": "ac34131b-bee6-43d9-82e3-258c4f84e95e",
     "showTitle": false,
     "tableResultSettingsMap": {},
     "title": ""
    }
   },
   "source": [
    "4.2 Setup Prompts for Viz and Story"
   ]
  },
  {
   "cell_type": "code",
   "execution_count": 0,
   "metadata": {
    "application/vnd.databricks.v1+cell": {
     "cellMetadata": {
      "byteLimit": 2048000,
      "rowLimit": 10000
     },
     "inputWidgets": {},
     "nuid": "bf73d8a7-c85d-4fe6-8738-d230447e97ee",
     "showTitle": false,
     "tableResultSettingsMap": {},
     "title": ""
    }
   },
   "outputs": [],
   "source": [
    "visualization_system_prompt = \"\"\"You are an expert data visualization specialist. Your job is to create visualizations from data, no matter the format.\n",
    "\n",
    "IMPORTANT INSTRUCTIONS:\n",
    "1. The data will be provided to you in JSON format. You MUST use this data to create a visualization.\n",
    "2. If the data appears in a format like [{\"usage_date\": \"2025-03-26\", \"avg_currency_conversion_rate\": 9870.5}, ...] create a line chart showing the trend over time.\n",
    "3. If you see a \"No table data found\" message, check if JSON data is still available in another part of the input.\n",
    "4. NEVER give up on creating a visualization! Even with minimal or difficult data, create a simple chart.\n",
    "5. When using create_line_chart or create_bar_chart, make sure to properly format any JSON data as a string.\n",
    "\n",
    "Your visualizations should be clear, informative, and properly labeled. Quality visualization is better than no visualization.\n",
    "\"\"\"\n",
    "\n",
    "story_builder_system_prompt = \"\"\"You are an expert storyteller specializing in data narratives. Your role is to craft compelling stories based on data analysis and visualizations, following the S.T.O.R.Y framework.\n",
    "\n",
    "## S.T.O.R.Y Framework\n",
    "- Situation: Set the context and background for the data analysis\n",
    "- Take off: Identify the key trends, patterns, or insights that stand out\n",
    "- Opportunity: Highlight the implications or potential actions suggested by the data\n",
    "- Resolution: Propose potential solutions or decisions based on the insights\n",
    "- Yield: Summarize the expected outcomes or benefits of taking action\n",
    "\n",
    "## Instructions\n",
    "1. Study the data analysis from the Genie agent and the visualizations created.\n",
    "2. Identify the most significant insights and patterns in the data.\n",
    "3. Craft a coherent narrative that flows logically through the S.T.O.R.Y framework.\n",
    "4. Use clear, engaging language that makes the data accessible and meaningful.\n",
    "5. Focus on business implications and actionable insights.\n",
    "6. Reference specific visualizations to support key points in your story.\n",
    "\n",
    "Your goal is to transform data and visualizations into a compelling narrative that helps stakeholders understand the significance of the information and make informed decisions.\n",
    "\"\"\""
   ]
  },
  {
   "cell_type": "markdown",
   "metadata": {
    "application/vnd.databricks.v1+cell": {
     "cellMetadata": {
      "batchId": -239554532506955,
      "byteLimit": 2048000,
      "rowLimit": 10000
     },
     "inputWidgets": {},
     "nuid": "0db2e7eb-1959-47f9-952c-6c5bebcea517",
     "showTitle": false,
     "tableResultSettingsMap": {},
     "title": ""
    }
   },
   "source": [
    "4.3 create required **YAML files** in configs (Genie to Story)"
   ]
  },
  {
   "cell_type": "code",
   "execution_count": 0,
   "metadata": {
    "application/vnd.databricks.v1+cell": {
     "cellMetadata": {
      "byteLimit": 2048000,
      "rowLimit": 10000
     },
     "inputWidgets": {},
     "nuid": "8dae9a46-f306-45eb-a307-9a5129a598c7",
     "showTitle": false,
     "tableResultSettingsMap": {},
     "title": ""
    }
   },
   "outputs": [],
   "source": [
    "from cookbook.config.agents.genie_agent import GenieAgentConfig\n",
    "from cookbook.config.agents.visualization_agent import VisualizationAgentConfig\n",
    "from cookbook.config.agents.story_builder_agent import StoryBuilderAgentConfig\n",
    "from cookbook.config.shared.llm import LLMParametersConfig, LLMConfig\n",
    "from cookbook.config import serializable_config_to_yaml_file\n",
    "\n",
    "GENIE_AGENT_DEFAULT_YAML_CONFIG_FILE_NAME = \"genie_agent_config.yaml\"\n",
    "VISUALIZATION_AGENT_DEFAULT_YAML_CONFIG_FILE_NAME = \"visualization_agent_config.yaml\"\n",
    "STORY_BUILDER_AGENT_DEFAULT_YAML_CONFIG_FILE_NAME = \"story_builder_agent_config.yaml\"\n",
    "\n",
    "genie_agent_config = GenieAgentConfig(\n",
    "    genie_space_id=GENIE_SPACE_ID\n",
    ")\n",
    "\n",
    "visualization_agent_config = VisualizationAgentConfig(\n",
    "    llm_endpoint_name=LLM_ENDPOINT_NAME,\n",
    "    system_prompt=visualization_system_prompt,\n",
    "    tools=viz_tools,\n",
    "    llm_parameters=LLMParametersConfig(\n",
    "        temperature=0.2,\n",
    "        max_tokens=2000\n",
    "    )\n",
    ")\n",
    "\n",
    "story_builder_agent_config = StoryBuilderAgentConfig(\n",
    "    llm_endpoint_name=LLM_ENDPOINT_NAME,\n",
    "    system_prompt=story_builder_system_prompt,\n",
    "    llm_parameters=LLMParametersConfig(\n",
    "        temperature=0.5,\n",
    "        max_tokens=3000\n",
    "    )\n",
    ")\n",
    "\n",
    "\n",
    "# Save each agent configuration to YAML before importing the agent classes\n",
    "serializable_config_to_yaml_file(genie_agent_config, \"./configs/\" + GENIE_AGENT_DEFAULT_YAML_CONFIG_FILE_NAME)\n",
    "serializable_config_to_yaml_file(visualization_agent_config, \"./configs/\" + VISUALIZATION_AGENT_DEFAULT_YAML_CONFIG_FILE_NAME)\n",
    "serializable_config_to_yaml_file(story_builder_agent_config, \"./configs/\" + STORY_BUILDER_AGENT_DEFAULT_YAML_CONFIG_FILE_NAME)"
   ]
  },
  {
   "cell_type": "markdown",
   "metadata": {
    "application/vnd.databricks.v1+cell": {
     "cellMetadata": {
      "batchId": -239554532506955,
      "byteLimit": 2048000,
      "rowLimit": 10000
     },
     "inputWidgets": {},
     "nuid": "af8de845-4efd-46a6-9fc6-d123841e16b3",
     "showTitle": false,
     "tableResultSettingsMap": {},
     "title": ""
    }
   },
   "source": [
    "Function Calling Agent Config Setup"
   ]
  },
  {
   "cell_type": "code",
   "execution_count": 0,
   "metadata": {
    "application/vnd.databricks.v1+cell": {
     "cellMetadata": {
      "byteLimit": 2048000,
      "rowLimit": 10000
     },
     "inputWidgets": {},
     "nuid": "5051decc-02b7-4b1d-ae44-cd15bdaf480d",
     "showTitle": false,
     "tableResultSettingsMap": {},
     "title": ""
    }
   },
   "outputs": [],
   "source": [
    "from cookbook.config.agents.function_calling_agent import FunctionCallingAgentConfig\n",
    "\n",
    "FC_AGENT_DEFAULT_YAML_CONFIG_FILE_NAME = \"function_calling_agent_config.yaml\"\n",
    "# 3. Define system prompt\n",
    "system_prompt = \"\"\"\n",
    "## Role\n",
    "You are a helpful assistant that answers questions using a set of tools. If needed, you ask the user follow-up questions to clarify their request.\n",
    "\n",
    "## Objective\n",
    "Your goal is to provide accurate, relevant, and helpful response based solely on the outputs from these tools. You are concise and direct in your responses.\n",
    "\n",
    "## Instructions\n",
    "1. **Understand the Query**: Think step by step to analyze the user's question and determine the core need or problem. \n",
    "\n",
    "2. **Assess available tools**: Think step by step to consider each available tool and understand their capabilities in the context of the user's query.\n",
    "\n",
    "3. **Select the appropriate tool(s) OR ask follow up questions**: Based on your understanding of the query and the tool descriptions, decide which tool(s) should be used to generate a response. If you do not have enough information to use the available tools to answer the question, ask the user follow up questions to refine their request.  If you do not have a relevant tool for a question or the outputs of the tools are not helpful, respond with: \"I'm sorry, I can't help you with that.\"\n",
    "\"\"\".strip()\n",
    "\n",
    "# 4. Create the agent configuration\n",
    "fc_agent_config = FunctionCallingAgentConfig(\n",
    "    llm_config=LLMConfig(\n",
    "        llm_endpoint_name=LLM_ENDPOINT_NAME,  # Model serving endpoint\n",
    "        llm_system_prompt_template=system_prompt,  # System prompt\n",
    "        llm_parameters=LLMParametersConfig(\n",
    "            temperature=0.01, max_tokens=1500\n",
    "        ),\n",
    "    ),\n",
    "    tools=viz_tools,\n",
    ")\n",
    "from cookbook.agents.function_calling_agent import FC_AGENT_DEFAULT_YAML_CONFIG_FILE_NAME\n",
    "serializable_config_to_yaml_file(fc_agent_config, \"./configs/\"+FC_AGENT_DEFAULT_YAML_CONFIG_FILE_NAME)"
   ]
  },
  {
   "cell_type": "markdown",
   "metadata": {
    "application/vnd.databricks.v1+cell": {
     "cellMetadata": {
      "batchId": -239554532506955,
      "byteLimit": 2048000,
      "rowLimit": 10000
     },
     "inputWidgets": {},
     "nuid": "fafdeeb9-be50-4e31-bc1b-625ffb9410d1",
     "showTitle": false,
     "tableResultSettingsMap": {},
     "title": ""
    }
   },
   "source": [
    "4.4 Create Supervised Agents (Genie to Story)"
   ]
  },
  {
   "cell_type": "code",
   "execution_count": 0,
   "metadata": {
    "application/vnd.databricks.v1+cell": {
     "cellMetadata": {
      "byteLimit": 2048000,
      "rowLimit": 10000
     },
     "inputWidgets": {},
     "nuid": "c3df5881-2a8a-448d-b06f-2d60ded3b8f3",
     "showTitle": false,
     "tableResultSettingsMap": {},
     "title": ""
    }
   },
   "outputs": [],
   "source": [
    "from cookbook.config import serializable_config_to_yaml\n",
    "from cookbook.agents.genie_agent import GenieAgent\n",
    "from cookbook.agents.visualization_agent import VisualizationAgent\n",
    "from cookbook.agents.story_builder_agent import StoryBuilderAgent\n",
    "from cookbook.tools.local_function import LocalFunctionTool\n",
    "from cookbook.config.agents.multi_agent_supervisor import MultiAgentSupervisorConfig, SupervisedAgentConfig"
   ]
  },
  {
   "cell_type": "code",
   "execution_count": 0,
   "metadata": {
    "application/vnd.databricks.v1+cell": {
     "cellMetadata": {
      "byteLimit": 2048000,
      "rowLimit": 10000
     },
     "inputWidgets": {},
     "nuid": "980b8492-2e47-45d4-8ff1-2ad33b9533e2",
     "showTitle": false,
     "tableResultSettingsMap": {},
     "title": ""
    }
   },
   "outputs": [],
   "source": [
    "# Create supervised agent configurations\n",
    "genie_supervised = SupervisedAgentConfig(\n",
    "    name=\"Genie\", \n",
    "    description=\"Queries and analyzes data from databases with natural language. Can transform complex data requests into SQL queries and return structured results.\", \n",
    "    agent_config=genie_agent_config,\n",
    "    agent_class=GenieAgent\n",
    ")\n",
    "\n",
    "visualization_supervised = SupervisedAgentConfig(\n",
    "    name=\"Visualization\", \n",
    "    description=\"Creates data visualizations based on Genie query results. Determines the most appropriate chart types based on data structure and analysis goals.\", \n",
    "    agent_config=visualization_agent_config,\n",
    "    agent_class=VisualizationAgent\n",
    ")\n",
    "\n",
    "story_builder_supervised = SupervisedAgentConfig(\n",
    "    name=\"StoryBuilder\", \n",
    "    description=\"Crafts compelling narratives from data and visualizations using the S.T.O.R.Y framework: Situation, Take off, Opportunity, Resolution, Yield. Focuses on business insights and key findings.\", \n",
    "    agent_config=story_builder_agent_config,\n",
    "    agent_class=StoryBuilderAgent\n",
    ")"
   ]
  },
  {
   "cell_type": "markdown",
   "metadata": {
    "application/vnd.databricks.v1+cell": {
     "cellMetadata": {
      "batchId": -239554532506955,
      "byteLimit": 2048000,
      "rowLimit": 10000
     },
     "inputWidgets": {},
     "nuid": "deffd70d-021f-4e8c-a0f5-4b7d97166609",
     "showTitle": false,
     "tableResultSettingsMap": {},
     "title": ""
    }
   },
   "source": [
    "4.5 create required **YAML files** in configs (MultiAgent)"
   ]
  },
  {
   "cell_type": "code",
   "execution_count": 0,
   "metadata": {
    "application/vnd.databricks.v1+cell": {
     "cellMetadata": {
      "byteLimit": 2048000,
      "rowLimit": 10000
     },
     "inputWidgets": {},
     "nuid": "f65fa9d9-bd83-431d-88b2-0bfb68ab9b54",
     "showTitle": false,
     "tableResultSettingsMap": {},
     "title": ""
    }
   },
   "outputs": [],
   "source": [
    "from cookbook.config.agents.multi_agent_supervisor import MultiAgentSupervisorConfig\n",
    "from cookbook.config import serializable_config_to_yaml_file\n",
    "\n",
    "MULTI_AGENT_DEFAULT_YAML_CONFIG_FILE_NAME = \"multi_agent_supervisor_config.yaml\"\n",
    "# Create the multi-agent supervisor configuration\n",
    "multi_agent_config = MultiAgentSupervisorConfig(\n",
    "    llm_endpoint_name=LLM_ENDPOINT_NAME,\n",
    "    llm_parameters=LLMParametersConfig(\n",
    "        max_tokens=1500,\n",
    "        temperature=0.1\n",
    "    ),\n",
    "    playground_debug_mode=True,  # Set to True to see detailed debug info in the UI\n",
    "    agent_loading_mode=\"local\",   # Use local agents\n",
    "    max_supervisor_loops=4,      # Maximum number of agent turns before finishing\n",
    "    agents=[genie_supervised, visualization_supervised, story_builder_supervised]\n",
    ")\n",
    "\n",
    "serializable_config_to_yaml_file(multi_agent_config, \"./configs/\"+MULTI_AGENT_DEFAULT_YAML_CONFIG_FILE_NAME)"
   ]
  },
  {
   "cell_type": "markdown",
   "metadata": {
    "application/vnd.databricks.v1+cell": {
     "cellMetadata": {
      "batchId": -239554532506955,
      "byteLimit": 2048000,
      "rowLimit": 10000
     },
     "inputWidgets": {},
     "nuid": "b91438cb-1b16-43ca-acd3-b9dce893ecc9",
     "showTitle": false,
     "tableResultSettingsMap": {},
     "title": ""
    }
   },
   "source": [
    "4.6 Initialized the Multi-Agent System"
   ]
  },
  {
   "cell_type": "code",
   "execution_count": 0,
   "metadata": {
    "application/vnd.databricks.v1+cell": {
     "cellMetadata": {
      "byteLimit": 2048000,
      "rowLimit": 10000
     },
     "inputWidgets": {},
     "nuid": "e061c52e-0cb5-4f31-ae74-a08c3aadf799",
     "showTitle": false,
     "tableResultSettingsMap": {},
     "title": ""
    }
   },
   "outputs": [],
   "source": [
    "# Initialize the Multi-Agent System\n",
    "from cookbook.agents.multi_agent_supervisor import MultiAgentSupervisor\n",
    "\n",
    "# Initialize the multi-agent system\n",
    "multi_agent = MultiAgentSupervisor(agent_config=multi_agent_config)"
   ]
  },
  {
   "cell_type": "markdown",
   "metadata": {
    "application/vnd.databricks.v1+cell": {
     "cellMetadata": {
      "batchId": -239554532506955,
      "byteLimit": 2048000,
      "rowLimit": 10000
     },
     "inputWidgets": {},
     "nuid": "4ba86e21-90e7-409e-9f0f-beb871802090",
     "showTitle": false,
     "tableResultSettingsMap": {},
     "title": ""
    }
   },
   "source": [
    "5. Test the MultiAgent"
   ]
  },
  {
   "cell_type": "markdown",
   "metadata": {
    "application/vnd.databricks.v1+cell": {
     "cellMetadata": {
      "batchId": -239554532506955,
      "byteLimit": 2048000,
      "rowLimit": 10000
     },
     "inputWidgets": {},
     "nuid": "a1591480-7280-458a-858f-b952da149075",
     "showTitle": false,
     "tableResultSettingsMap": {},
     "title": ""
    }
   },
   "source": [
    "Debug Genie Agent"
   ]
  },
  {
   "cell_type": "code",
   "execution_count": 0,
   "metadata": {
    "application/vnd.databricks.v1+cell": {
     "cellMetadata": {
      "byteLimit": 2048000,
      "rowLimit": 10000
     },
     "inputWidgets": {},
     "nuid": "8a198a8e-6544-4f54-8a15-e63d7d7f6a80",
     "showTitle": false,
     "tableResultSettingsMap": {},
     "title": ""
    }
   },
   "outputs": [],
   "source": [
    "# Test the multi-agent system\n",
    "# Test query\n",
    "test_query = {\n",
    "    \"messages\": [\n",
    "        {\n",
    "            \"role\": \"user\",\n",
    "            \"content\": \"Show usage date-wise average currency conversion rate. Take data from enriched table\"\n",
    "        }\n",
    "    ]\n",
    "}"
   ]
  },
  {
   "cell_type": "code",
   "execution_count": 0,
   "metadata": {
    "application/vnd.databricks.v1+cell": {
     "cellMetadata": {
      "byteLimit": 2048000,
      "rowLimit": 10000
     },
     "inputWidgets": {},
     "nuid": "c87f1d61-79d1-43b3-9808-ba3ad0947afc",
     "showTitle": false,
     "tableResultSettingsMap": {},
     "title": ""
    },
    "jupyter": {
     "source_hidden": true
    }
   },
   "outputs": [],
   "source": [
    "def process_genie_data_for_visualization(genie_output):\n",
    "    \"\"\"\n",
    "    Process Genie's output to make it suitable for the visualization agent.\n",
    "    \n",
    "    Args:\n",
    "        genie_output: The output from the Genie agent\n",
    "        \n",
    "    Returns:\n",
    "        dict: Input suitable for the visualization agent\n",
    "    \"\"\"\n",
    "    from tools.visualization_tools import parse_genie_response\n",
    "    \n",
    "    # Extract data from Genie's response\n",
    "    extracted_data = parse_genie_response(genie_output)\n",
    "    \n",
    "    # Create an enhanced instruction for the visualization agent\n",
    "    instruction = f\"\"\"Please create a visualization based on this data: {extracted_data}\n",
    "    \n",
    "    If the data appears to be a time series (with dates), please create a line chart showing the trend over time.\n",
    "    If the data is categorical, please create a bar chart to compare values.\n",
    "    \n",
    "    Even if there are issues with the data, please make your best effort to create a visualization with whatever data is available.\n",
    "    \"\"\"\n",
    "    \n",
    "    # Prepare input for visualization agent\n",
    "    viz_input = {\n",
    "        \"messages\": genie_output.get(\"messages\", []) + [{\n",
    "            \"role\": \"user\", \n",
    "            \"content\": instruction\n",
    "        }]\n",
    "    }\n",
    "    \n",
    "    return viz_input"
   ]
  },
  {
   "cell_type": "code",
   "execution_count": 0,
   "metadata": {
    "application/vnd.databricks.v1+cell": {
     "cellMetadata": {
      "byteLimit": 2048000,
      "rowLimit": 10000
     },
     "inputWidgets": {},
     "nuid": "06ba9ae4-034e-4112-8556-498545f814fb",
     "showTitle": false,
     "tableResultSettingsMap": {},
     "title": ""
    },
    "jupyter": {
     "source_hidden": true
    }
   },
   "outputs": [],
   "source": [
    "# Define a simple debug function to print important information about the data\n",
    "def debug_data(genie_output):\n",
    "    \"\"\"Print debugging information about the Genie output\"\"\"\n",
    "    print(\"=\" * 50)\n",
    "    print(\"DEBUG: Genie Output Structure\")\n",
    "    print(f\"Type: {type(genie_output)}\")\n",
    "    \n",
    "    if isinstance(genie_output, dict):\n",
    "        print(f\"Keys: {genie_output.keys()}\")\n",
    "        \n",
    "        if 'content' in genie_output:\n",
    "            print(f\"Content type: {type(genie_output['content'])}\")\n",
    "            print(f\"Content preview: {genie_output['content'][:100]}...\")\n",
    "        \n",
    "        if 'messages' in genie_output:\n",
    "            print(f\"Message count: {len(genie_output['messages'])}\")\n",
    "            print(f\"Message types: {[msg.get('role') for msg in genie_output['messages']]}\")\n",
    "            \n",
    "            # Find assistant messages with content\n",
    "            assistant_msgs = [msg for msg in genie_output['messages'] if msg.get('role') == 'assistant' and msg.get('content')]\n",
    "            if assistant_msgs:\n",
    "                last_msg = assistant_msgs[-1]\n",
    "                print(f\"Last assistant message preview: {last_msg.get('content', '')[:100]}...\")\n",
    "    \n",
    "    print(\"=\" * 50)\n"
   ]
  },
  {
   "cell_type": "code",
   "execution_count": 0,
   "metadata": {
    "application/vnd.databricks.v1+cell": {
     "cellMetadata": {
      "byteLimit": 2048000,
      "rowLimit": 10000
     },
     "inputWidgets": {},
     "nuid": "51976d3a-7a8b-4ac8-b6f6-3bac6d651a5c",
     "showTitle": false,
     "tableResultSettingsMap": {},
     "title": ""
    },
    "jupyter": {
     "outputs_hidden": true,
     "source_hidden": true
    }
   },
   "outputs": [],
   "source": [
    "# Test your multi-agent workflow step by step\n",
    "from cookbook.agents.genie_agent import GenieAgent\n",
    "from cookbook.agents.visualization_agent import VisualizationAgent\n",
    "# Import the extract_table_from_markdown function\n",
    "from tools.visualization_tools import extract_table_from_markdown\n",
    "# Initialize the agents\n",
    "genie_agent = GenieAgent(agent_config=genie_agent_config)\n",
    "visualization_agent = VisualizationAgent(agent_config=visualization_agent_config)\n",
    "\n",
    "# Test query\n",
    "test_query = {\n",
    "    \"messages\": [\n",
    "        {\n",
    "            \"role\": \"user\",\n",
    "            \"content\": \"Show usage date-wise average currency conversion rate. Take data from enriched table\"\n",
    "        }\n",
    "    ]\n",
    "}\n",
    "\n",
    "# Run the query through Genie agent\n",
    "genie_output = genie_agent.predict(model_input=test_query)\n",
    "\n",
    "# Process the Genie output for visualization\n",
    "viz_input = process_genie_data_for_visualization(genie_output)\n",
    "\n",
    "# Run visualization agent with the processed input\n",
    "try:\n",
    "    viz_output = visualization_agent.predict(model_input=viz_input)\n",
    "    print(\"Visualization completed successfully\")\n",
    "except Exception as e:\n",
    "    print(f\"Error in visualization agent: {str(e)}\")\n",
    "    # Create a fallback response\n",
    "    viz_output = {\n",
    "        \"content\": \"I couldn't create a visualization from the provided data.\",\n",
    "        \"messages\": genie_output.get(\"messages\", []) + [{\n",
    "            \"role\": \"assistant\",\n",
    "            \"content\": \"I couldn't create a visualization from the provided data.\"\n",
    "        }]\n",
    "    }"
   ]
  },
  {
   "cell_type": "code",
   "execution_count": 0,
   "metadata": {
    "application/vnd.databricks.v1+cell": {
     "cellMetadata": {
      "byteLimit": 2048000,
      "rowLimit": 10000
     },
     "inputWidgets": {},
     "nuid": "be74ed78-f764-4251-8726-670ccf583949",
     "showTitle": false,
     "tableResultSettingsMap": {},
     "title": ""
    }
   },
   "outputs": [],
   "source": [
    "# from cookbook.agents.function_calling_agent import FunctionCallingAgent\n",
    "\n",
    "# Test visualization agent\n",
    "# viz_agent = FunctionCallingAgent(agent_config=visualization_agent_config)\n",
    "# output = viz_agent.predict(model_input={\"messages\": [{\"role\": \"user\", \"content\": \"Create a bar chart from this data: ...\"}]})"
   ]
  },
  {
   "cell_type": "code",
   "execution_count": 0,
   "metadata": {
    "application/vnd.databricks.v1+cell": {
     "cellMetadata": {
      "byteLimit": 2048000,
      "rowLimit": 10000
     },
     "inputWidgets": {},
     "nuid": "b7009455-6dac-4660-aa01-3852f5fb487d",
     "showTitle": false,
     "tableResultSettingsMap": {},
     "title": ""
    }
   },
   "outputs": [],
   "source": [
    "# Run the query\n",
    "output = multi_agent.predict(model_input=test_query)\n",
    "print(output[\"content\"])\n"
   ]
  },
  {
   "cell_type": "code",
   "execution_count": 0,
   "metadata": {
    "application/vnd.databricks.v1+cell": {
     "cellMetadata": {
      "byteLimit": 2048000,
      "rowLimit": 10000
     },
     "inputWidgets": {},
     "nuid": "bcd0fc0b-fb38-485c-9263-4c18a37b8116",
     "showTitle": false,
     "tableResultSettingsMap": {},
     "title": ""
    }
   },
   "outputs": [],
   "source": [
    "# Test Genie agent\n",
    "genie_agent = GenieAgent(agent_config=genie_agent_config)\n",
    "genie_output = genie_agent.predict(model_input=test_query)\n",
    "print(genie_output)\n",
    "\n"
   ]
  },
  {
   "cell_type": "code",
   "execution_count": 0,
   "metadata": {
    "application/vnd.databricks.v1+cell": {
     "cellMetadata": {
      "byteLimit": 2048000,
      "rowLimit": 10000
     },
     "inputWidgets": {},
     "nuid": "18d353ae-4f90-4069-9275-d100469eb4b4",
     "showTitle": false,
     "tableResultSettingsMap": {},
     "title": ""
    }
   },
   "outputs": [],
   "source": [
    "# Test visualization agent with Genie's output\n",
    "visualization_agent = VisualizationAgent(agent_config=visualization_agent_config)\n",
    "viz_output = visualization_agent.predict(model_input={\"messages\": output[\"content\"]})\n",
    "print(viz_output)"
   ]
  },
  {
   "cell_type": "code",
   "execution_count": 0,
   "metadata": {
    "application/vnd.databricks.v1+cell": {
     "cellMetadata": {
      "byteLimit": 2048000,
      "rowLimit": 10000
     },
     "inputWidgets": {},
     "nuid": "1c7d3b61-08d7-413c-b7c1-e0b31f495c51",
     "showTitle": false,
     "tableResultSettingsMap": {},
     "title": ""
    }
   },
   "outputs": [],
   "source": [
    "import json\n",
    "print(json.dumps(output, indent=2, default=str))"
   ]
  },
  {
   "cell_type": "code",
   "execution_count": 0,
   "metadata": {
    "application/vnd.databricks.v1+cell": {
     "cellMetadata": {
      "byteLimit": 2048000,
      "rowLimit": 10000
     },
     "inputWidgets": {},
     "nuid": "2f7b7302-7e31-40df-88ad-b2c0ba7457ad",
     "showTitle": false,
     "tableResultSettingsMap": {},
     "title": ""
    }
   },
   "outputs": [],
   "source": [
    "# Display the result\n",
    "print(\"Final Response:\")\n",
    "print(\"=\" * 80)\n",
    "print(output[\"content\"])"
   ]
  },
  {
   "cell_type": "markdown",
   "metadata": {
    "application/vnd.databricks.v1+cell": {
     "cellMetadata": {},
     "inputWidgets": {},
     "nuid": "37f2817f-af26-4326-9e1a-d7012d9b7b10",
     "showTitle": false,
     "tableResultSettingsMap": {},
     "title": ""
    }
   },
   "source": [
    "++++++++++++++++++++++++++++++++++"
   ]
  },
  {
   "cell_type": "markdown",
   "metadata": {
    "application/vnd.databricks.v1+cell": {
     "cellMetadata": {},
     "inputWidgets": {},
     "nuid": "aaa7e9d3-a96a-4ebc-827e-233c8a790bd6",
     "showTitle": false,
     "tableResultSettingsMap": {},
     "title": ""
    }
   },
   "source": [
    "6. Log agent to MLFlow"
   ]
  },
  {
   "cell_type": "code",
   "execution_count": 0,
   "metadata": {
    "application/vnd.databricks.v1+cell": {
     "cellMetadata": {},
     "inputWidgets": {},
     "nuid": "d6a5681f-12cb-4f97-a780-e635862e1814",
     "showTitle": false,
     "tableResultSettingsMap": {},
     "title": ""
    }
   },
   "outputs": [],
   "source": [
    "# Helper function to log the agent to MLflow\n",
    "import mlflow\n",
    "from mlflow.types.llm import CHAT_MODEL_INPUT_SCHEMA\n",
    "from mlflow.models.rag_signatures import StringResponse\n",
    "from mlflow.models.signature import ModelSignature\n",
    "from mlflow.models.resources import DatabricksGenieSpace, DatabricksServingEndpoint\n",
    "\n",
    "def log_multi_agent_supervisor_to_mlflow(agent_config: MultiAgentSupervisorConfig):\n",
    "    \"\"\"\n",
    "    Log the multi-agent supervisor to MLflow for deployment.\n",
    "    \n",
    "    Args:\n",
    "        agent_config: The configuration for the multi-agent supervisor\n",
    "        \n",
    "    Returns:\n",
    "        The MLflow run info for the logged model\n",
    "    \"\"\"\n",
    "    # Get the agent's code path\n",
    "    agent_code_path = f\"{os.getcwd()}/cookbook/agents/multi_agent_supervisor.py\"\n",
    "\n",
    "    # Get the pip requirements\n",
    "    with open(\"requirements.txt\", \"r\") as file:\n",
    "        pip_requirements = [line.strip() for line in file.readlines()] + [\"pyspark\"]  # manually add pyspark\n",
    "    \n",
    "    # Define the resource dependencies for automatic authorization\n",
    "    resources = [\n",
    "        DatabricksServingEndpoint(endpoint_name=agent_config.llm_endpoint_name),\n",
    "        DatabricksGenieSpace(genie_space_id=GENIE_SPACE_ID),\n",
    "    ]\n",
    "    \n",
    "    # Log the model to MLflow\n",
    "    logged_agent_info = mlflow.pyfunc.log_model(\n",
    "        artifact_path=\"agent\",\n",
    "        python_model=agent_code_path,\n",
    "        input_example=agent_config.input_example,\n",
    "        model_config=agent_config.model_dump(),\n",
    "        resources=resources,\n",
    "        signature=ModelSignature(\n",
    "            inputs=CHAT_MODEL_INPUT_SCHEMA,\n",
    "            outputs=StringResponse()\n",
    "        ),\n",
    "        code_paths=[os.path.join(os.getcwd(), \"cookbook\")],\n",
    "        pip_requirements=pip_requirements,\n",
    "    )\n",
    "    \n",
    "    return logged_agent_info"
   ]
  },
  {
   "cell_type": "code",
   "execution_count": 0,
   "metadata": {
    "application/vnd.databricks.v1+cell": {
     "cellMetadata": {},
     "inputWidgets": {},
     "nuid": "254cff80-d220-4745-b55e-df20acb03c23",
     "showTitle": false,
     "tableResultSettingsMap": {},
     "title": ""
    }
   },
   "outputs": [],
   "source": [
    "# Log and deploy the Multi-Agent System\n",
    "# Log the multi-agent system to MLflow\n",
    "with mlflow.start_run() as run:\n",
    "    logged_agent_info = log_multi_agent_supervisor_to_mlflow(multi_agent_config)\n",
    "    print(f\"Multi-agent system logged to MLflow with run ID: {run.info.run_id}\")\n",
    "    print(f\"Model URI: {logged_agent_info.model_uri}\")\n",
    "\n",
    "# Register the model to Unity Catalog\n",
    "mlflow.set_registry_uri(\"databricks-uc\")\n",
    "\n",
    "model_name = agent_storage_config.uc_model_name\n",
    "registered_model = mlflow.register_model(\n",
    "    model_uri=logged_agent_info.model_uri,\n",
    "    name=model_name\n",
    ")\n",
    "\n",
    "print(f\"Model registered to Unity Catalog as {model_name}, version {registered_model.version}\")"
   ]
  },
  {
   "cell_type": "code",
   "execution_count": 0,
   "metadata": {
    "application/vnd.databricks.v1+cell": {
     "cellMetadata": {},
     "inputWidgets": {},
     "nuid": "5c6a6113-73f8-49bb-b503-70bb1fb74caf",
     "showTitle": false,
     "tableResultSettingsMap": {},
     "title": ""
    }
   },
   "outputs": [],
   "source": [
    "# Deploy the model using Databricks Agents API\n",
    "from databricks import agents\n",
    "\n",
    "# Deploy the model\n",
    "deployment = agents.deploy(\n",
    "    model_name=model_name,\n",
    "    model_version=registered_model.version,\n",
    "    tags={\"source\": \"multi_agent_story\"}\n",
    ")\n",
    "\n",
    "print(f\"Model deployed successfully as: {deployment.endpoint_name}\")"
   ]
  }
 ],
 "metadata": {
  "application/vnd.databricks.v1+notebook": {
   "computePreferences": null,
   "dashboards": [],
   "environmentMetadata": {
    "base_environment": "",
    "environment_version": "2"
   },
   "inputWidgetPreferences": null,
   "language": "python",
   "notebookMetadata": {
    "pythonIndentUnit": 2
   },
   "notebookName": "03_multi_agent_with_story",
   "widgets": {}
  },
  "language_info": {
   "name": "python"
  }
 },
 "nbformat": 4,
 "nbformat_minor": 0
}
